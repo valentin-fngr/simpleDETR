{
 "cells": [
  {
   "cell_type": "code",
   "execution_count": 1,
   "metadata": {},
   "outputs": [],
   "source": [
    "import torch  \n"
   ]
  },
  {
   "cell_type": "code",
   "execution_count": 3,
   "metadata": {},
   "outputs": [
    {
     "name": "stdout",
     "output_type": "stream",
     "text": [
      "tensor([0, 0, 0, 0])\n"
     ]
    },
    {
     "data": {
      "text/plain": [
       "tensor([[0.9719, 0.2814, 0.3171, 0.5629, 0.9773],\n",
       "        [0.7925, 0.4719, 0.1021, 0.7571, 0.1956],\n",
       "        [0.3774, 0.1023, 0.2314, 0.4613, 0.9517],\n",
       "        [0.9982, 0.1183, 0.4094, 0.0423, 0.6275],\n",
       "        [0.4633, 0.7323, 0.9889, 0.6752, 0.2036],\n",
       "        [0.5313, 0.0596, 0.3342, 0.7812, 0.2877],\n",
       "        [0.5240, 0.9567, 0.0707, 0.4474, 0.8893],\n",
       "        [0.7265, 0.3806, 0.9246, 0.7496, 0.9783],\n",
       "        [0.5588, 0.9052, 0.7207, 0.4269, 0.4279],\n",
       "        [0.0428, 0.6816, 0.4278, 0.4376, 0.5327]])"
      ]
     },
     "execution_count": 3,
     "metadata": {},
     "output_type": "execute_result"
    }
   ],
   "source": [
    "idx = torch.cat([torch.tensor([0]) for _ in range(4)])\n",
    "print(idx)\n",
    "y_labels = torch.rand(10, 5)\n",
    "y_labels"
   ]
  },
  {
   "cell_type": "code",
   "execution_count": 4,
   "metadata": {},
   "outputs": [
    {
     "name": "stdout",
     "output_type": "stream",
     "text": [
      "torch.Size([10, 4])\n"
     ]
    }
   ],
   "source": [
    "print(y_labels[:, idx].shape)"
   ]
  },
  {
   "cell_type": "code",
   "execution_count": 7,
   "metadata": {},
   "outputs": [
    {
     "data": {
      "text/plain": [
       "(tensor([[0.9719, 0.2814, 0.3171, 0.5629, 0.9773],\n",
       "         [0.7925, 0.4719, 0.1021, 0.7571, 0.1956]]),\n",
       " tensor([[0.3774, 0.1023, 0.2314, 0.4613, 0.9517],\n",
       "         [0.9982, 0.1183, 0.4094, 0.0423, 0.6275],\n",
       "         [0.4633, 0.7323, 0.9889, 0.6752, 0.2036],\n",
       "         [0.5313, 0.0596, 0.3342, 0.7812, 0.2877],\n",
       "         [0.5240, 0.9567, 0.0707, 0.4474, 0.8893],\n",
       "         [0.7265, 0.3806, 0.9246, 0.7496, 0.9783],\n",
       "         [0.5588, 0.9052, 0.7207, 0.4269, 0.4279],\n",
       "         [0.0428, 0.6816, 0.4278, 0.4376, 0.5327]]))"
      ]
     },
     "execution_count": 7,
     "metadata": {},
     "output_type": "execute_result"
    }
   ],
   "source": [
    "torch.split(y_labels, [2, 8])"
   ]
  },
  {
   "cell_type": "code",
   "execution_count": 17,
   "metadata": {},
   "outputs": [
    {
     "name": "stdout",
     "output_type": "stream",
     "text": [
      "torch.Size([10, 2])\n",
      "torch.Size([10, 2])\n"
     ]
    }
   ],
   "source": [
    "a = torch.rand(2, 10, 4) \n",
    "\n",
    "for i, c in enumerate(a.split([2, 2], -1)): \n",
    "    print(c[i].shape)\n",
    "\n"
   ]
  },
  {
   "cell_type": "code",
   "execution_count": 10,
   "metadata": {},
   "outputs": [
    {
     "data": {
      "text/plain": [
       "torch.Size([2, 5, 2])"
      ]
     },
     "execution_count": 10,
     "metadata": {},
     "output_type": "execute_result"
    }
   ],
   "source": [
    "a = torch.rand(2, 4) \n",
    "b = torch.rand(5, 4)\n",
    "\n",
    "tl = torch.maximum(a[:, None, :2], b[None, :, :2])\n",
    "br = torch.maximum(a[:, None, :2], b[None, :, :2])\n",
    "\n",
    "(br - tl).shape"
   ]
  },
  {
   "cell_type": "code",
   "execution_count": 7,
   "metadata": {},
   "outputs": [
    {
     "name": "stdout",
     "output_type": "stream",
     "text": [
      "tensor([[0, 0, 0],\n",
      "        [0, 0, 0],\n",
      "        [0, 0, 0]])\n"
     ]
    },
    {
     "data": {
      "text/plain": [
       "torch.Size([3, 3, 10])"
      ]
     },
     "execution_count": 7,
     "metadata": {},
     "output_type": "execute_result"
    }
   ],
   "source": [
    "a = torch.rand(2, 10) \n",
    "idx = torch.randint(0, 1, (3, 3))\n",
    "print(idx)\n",
    "a[idx].shape"
   ]
  },
  {
   "cell_type": "code",
   "execution_count": 8,
   "metadata": {},
   "outputs": [
    {
     "name": "stdout",
     "output_type": "stream",
     "text": [
      "tensor([[0.0698, 0.8550, 0.3573, 0.1487, 0.7982, 0.2791, 0.7120, 0.5117, 0.7561,\n",
      "         0.4919],\n",
      "        [0.5690, 0.3317, 0.8103, 0.9674, 0.9753, 0.6589, 0.6841, 0.2472, 0.6650,\n",
      "         0.9886]])\n"
     ]
    },
    {
     "data": {
      "text/plain": [
       "tensor([[[0.0698, 0.8550, 0.3573, 0.1487, 0.7982, 0.2791, 0.7120, 0.5117,\n",
       "          0.7561, 0.4919],\n",
       "         [0.0698, 0.8550, 0.3573, 0.1487, 0.7982, 0.2791, 0.7120, 0.5117,\n",
       "          0.7561, 0.4919],\n",
       "         [0.0698, 0.8550, 0.3573, 0.1487, 0.7982, 0.2791, 0.7120, 0.5117,\n",
       "          0.7561, 0.4919]],\n",
       "\n",
       "        [[0.0698, 0.8550, 0.3573, 0.1487, 0.7982, 0.2791, 0.7120, 0.5117,\n",
       "          0.7561, 0.4919],\n",
       "         [0.0698, 0.8550, 0.3573, 0.1487, 0.7982, 0.2791, 0.7120, 0.5117,\n",
       "          0.7561, 0.4919],\n",
       "         [0.0698, 0.8550, 0.3573, 0.1487, 0.7982, 0.2791, 0.7120, 0.5117,\n",
       "          0.7561, 0.4919]],\n",
       "\n",
       "        [[0.0698, 0.8550, 0.3573, 0.1487, 0.7982, 0.2791, 0.7120, 0.5117,\n",
       "          0.7561, 0.4919],\n",
       "         [0.0698, 0.8550, 0.3573, 0.1487, 0.7982, 0.2791, 0.7120, 0.5117,\n",
       "          0.7561, 0.4919],\n",
       "         [0.0698, 0.8550, 0.3573, 0.1487, 0.7982, 0.2791, 0.7120, 0.5117,\n",
       "          0.7561, 0.4919]]])"
      ]
     },
     "execution_count": 8,
     "metadata": {},
     "output_type": "execute_result"
    }
   ],
   "source": [
    "print(a)\n",
    "a[idx]"
   ]
  },
  {
   "cell_type": "code",
   "execution_count": 9,
   "metadata": {},
   "outputs": [
    {
     "ename": "RuntimeError",
     "evalue": "shape mismatch: value tensor of shape [320] cannot be broadcast to indexing result of shape [3, 3, 100]",
     "output_type": "error",
     "traceback": [
      "\u001b[0;31m---------------------------------------------------------------------------\u001b[0m",
      "\u001b[0;31mRuntimeError\u001b[0m                              Traceback (most recent call last)",
      "Cell \u001b[0;32mIn[9], line 3\u001b[0m\n\u001b[1;32m      1\u001b[0m target_classes_o \u001b[39m=\u001b[39m torch\u001b[39m.\u001b[39mrand(\u001b[39m16\u001b[39m\u001b[39m*\u001b[39m\u001b[39m20\u001b[39m)\n\u001b[1;32m      2\u001b[0m target_classes \u001b[39m=\u001b[39m torch\u001b[39m.\u001b[39mfull((\u001b[39m16\u001b[39m, \u001b[39m100\u001b[39m), \u001b[39m1\u001b[39m) \n\u001b[0;32m----> 3\u001b[0m target_classes[idx] \u001b[39m=\u001b[39m target_classes_o\n\u001b[1;32m      4\u001b[0m \u001b[39mprint\u001b[39m(target_classes[idx]\u001b[39m.\u001b[39mshape)\n",
      "\u001b[0;31mRuntimeError\u001b[0m: shape mismatch: value tensor of shape [320] cannot be broadcast to indexing result of shape [3, 3, 100]"
     ]
    }
   ],
   "source": [
    "target_classes_o = torch.rand(16*20)\n",
    "target_classes = torch.full((16, 100), 1) \n",
    "target_classes[idx] = target_classes_o\n",
    "print(target_classes[idx].shape)\n"
   ]
  },
  {
   "cell_type": "code",
   "execution_count": null,
   "metadata": {},
   "outputs": [],
   "source": []
  }
 ],
 "metadata": {
  "kernelspec": {
   "display_name": "venv",
   "language": "python",
   "name": "python3"
  },
  "language_info": {
   "codemirror_mode": {
    "name": "ipython",
    "version": 3
   },
   "file_extension": ".py",
   "mimetype": "text/x-python",
   "name": "python",
   "nbconvert_exporter": "python",
   "pygments_lexer": "ipython3",
   "version": "3.8.10"
  },
  "orig_nbformat": 4
 },
 "nbformat": 4,
 "nbformat_minor": 2
}
